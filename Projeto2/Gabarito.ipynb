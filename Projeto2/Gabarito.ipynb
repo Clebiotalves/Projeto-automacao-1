{
 "cells": [
  {
   "cell_type": "code",
   "execution_count": 2,
   "id": "8469fd7d",
   "metadata": {},
   "outputs": [
    {
     "data": {
      "text/html": [
       "<div>\n",
       "<style scoped>\n",
       "    .dataframe tbody tr th:only-of-type {\n",
       "        vertical-align: middle;\n",
       "    }\n",
       "\n",
       "    .dataframe tbody tr th {\n",
       "        vertical-align: top;\n",
       "    }\n",
       "\n",
       "    .dataframe thead th {\n",
       "        text-align: right;\n",
       "    }\n",
       "</style>\n",
       "<table border=\"1\" class=\"dataframe\">\n",
       "  <thead>\n",
       "    <tr style=\"text-align: right;\">\n",
       "      <th></th>\n",
       "      <th>Nome</th>\n",
       "      <th>Termos banidos</th>\n",
       "      <th>Preço mínimo</th>\n",
       "      <th>Preço máximo</th>\n",
       "    </tr>\n",
       "  </thead>\n",
       "  <tbody>\n",
       "    <tr>\n",
       "      <th>0</th>\n",
       "      <td>iphone 12 64gb</td>\n",
       "      <td>mini watch</td>\n",
       "      <td>3000</td>\n",
       "      <td>3500</td>\n",
       "    </tr>\n",
       "    <tr>\n",
       "      <th>1</th>\n",
       "      <td>rtx 3060</td>\n",
       "      <td>zota galax</td>\n",
       "      <td>4000</td>\n",
       "      <td>4500</td>\n",
       "    </tr>\n",
       "  </tbody>\n",
       "</table>\n",
       "</div>"
      ],
      "text/plain": [
       "             Nome Termos banidos  Preço mínimo  Preço máximo\n",
       "0  iphone 12 64gb     mini watch          3000          3500\n",
       "1        rtx 3060     zota galax          4000          4500"
      ]
     },
     "metadata": {},
     "output_type": "display_data"
    }
   ],
   "source": [
    "# criar um navegador\n",
    "from selenium import webdriver\n",
    "from selenium.webdriver.common.keys import Keys\n",
    "from selenium.webdriver.common.by import By\n",
    "\n",
    "import pandas as pd\n",
    "\n",
    "# criar o navegador\n",
    "nav = webdriver.Chrome()\n",
    "\n",
    "# importar/visualizar a base de dados\n",
    "tabela_produtos = pd.read_excel(\"buscas.xlsx\")\n",
    "display(tabela_produtos)"
   ]
  },
  {
   "cell_type": "markdown",
   "id": "4523d664",
   "metadata": {},
   "source": [
    "Definição das funções de busca no google e no buscape"
   ]
  },
  {
   "cell_type": "code",
   "execution_count": 6,
   "id": "9592b418",
   "metadata": {},
   "outputs": [
    {
     "ename": "IndentationError",
     "evalue": "unindent does not match any outer indentation level (<tokenize>, line 34)",
     "output_type": "error",
     "traceback": [
      "\u001b[1;36m  File \u001b[1;32m<tokenize>:34\u001b[1;36m\u001b[0m\n\u001b[1;33m    nome = nome.lower()\u001b[0m\n\u001b[1;37m    ^\u001b[0m\n\u001b[1;31mIndentationError\u001b[0m\u001b[1;31m:\u001b[0m unindent does not match any outer indentation level\n"
     ]
    }
   ],
   "source": [
    "import time\n",
    "\n",
    "def busca_google_shopping(nav, produto, termos_banidos, preco_minimo, preco_maximo):\n",
    "    # entrar no google\n",
    "    nav.get(\"https://www.google.com/\")\n",
    "    \n",
    "    # tratar os valores que vieram da tabela\n",
    "    produto = produto.lower()\n",
    "    termos_banidos = termos_banidos.lower()\n",
    "    lista_termos_banidos = termos_banidos.split(\" \")\n",
    "    lista_termos_produto = produto.split(\" \")\n",
    "    preco_maximo = float(preco_maximo)\n",
    "    preco_minimo = float(preco_minimo)\n",
    "    \n",
    "\n",
    "    # pesquisar o nome do produto no google\n",
    "    nav.find_element(By.XPATH, '/html/body/div[1]/div[3]/form/div[1]/div[1]/div[1]/div/div[2]/input').send_keys(produto)\n",
    "    nav.find_element(By.XPATH, '/html/body/div[1]/div[3]/form/div[1]/div[1]/div[1]/div/div[2]/input').send_keys(Keys.ENTER)\n",
    "    \n",
    "    # clicar na aba shopping\n",
    "    elementos = nav.find_elements(By.CLASS_NAME, 'hdtb-mitem')\n",
    "    for item in elementos:\n",
    "        if \"Shopping\" in item.text:\n",
    "            item.click()\n",
    "            break\n",
    "\n",
    "    # pegar a lista de resultados da busca no google shopping\n",
    "    lista_resultados = nav.find_elements(By.CLASS_NAME, 'sh-dgr__grid-result')\n",
    "    \n",
    "    # para cada resultado, ele vai verificar se o resultado corresponde a todas as nossas condicoes\n",
    "    lista_ofertas = [] # lista que a função vai me dar como resposta\n",
    "    for resultado in lista_resultados:\n",
    "        nome = resultado.find_element(By.CLASS_NAME, 'Xjkr3b').text\n",
    "        nome = nome.lower()\n",
    "\n",
    "        # verificacao do nome - se no nome tem algum termo banido\n",
    "        tem_termos_banidos = False\n",
    "        for palavra in lista_termos_banidos:\n",
    "            if palavra in nome:\n",
    "                tem_termos_banidos = True\n",
    "        \n",
    "        # verificar se no nome tem todos os termos do nome do produto\n",
    "        tem_todos_termos_produto = True\n",
    "        for palavra in lista_termos_produto:\n",
    "            if palavra not in nome:\n",
    "                tem_todos_termos_produto = False\n",
    "\n",
    "        if not tem_termos_banidos and tem_todos_termos_produto: # verificando o nome\n",
    "            try:\n",
    "                preco = resultado.find_element(By.CLASS_NAME, 'a8Pemb').text\n",
    "                preco = preco.replace(\"R$\", \"\").replace(\" \", \"\").replace(\".\", \"\").replace(\",\", \".\")\n",
    "                preco = float(preco)\n",
    "                # verificando se o preco ta dentro do minimo e maximo\n",
    "                if preco_minimo <= preco <= preco_maximo:\n",
    "                    elemento_link = resultado.find_element(By.CLASS_NAME, 'aULzUe')\n",
    "                    elemento_pai = elemento_link.find_element(By.XPATH, '..')\n",
    "                    link = elemento_pai.get_attribute('href')\n",
    "                    lista_ofertas.append((nome, preco, link))\n",
    "            except:\n",
    "                continue\n",
    "\n",
    "            \n",
    "    return lista_ofertas\n",
    "    \n",
    "    \n",
    "\n",
    "def busca_buscape(nav, produto, termos_banidos, preco_minimo, preco_maximo):\n",
    "    # tratar os valores da função\n",
    "    preco_maximo = float(preco_maximo)\n",
    "    preco_minimo = float(preco_minimo)\n",
    "    produto = produto.lower()\n",
    "    termos_banidos = termos_banidos.lower()\n",
    "    lista_termos_banidos = termos_banidos.split(\" \")\n",
    "    lista_termos_produto = produto.split(\" \")\n",
    "    \n",
    "    \n",
    "    # entrar no buscape\n",
    "    nav.get(\"https://www.buscape.com.br/\")\n",
    "    \n",
    "    # pesquisar pelo produto no buscape\n",
    "    nav.find_element(By.CLASS_NAME, 'search-bar__text-box').send_keys(produto, Keys.ENTER)\n",
    "    \n",
    "    # pegar a lista de resultados da busca do buscape\n",
    "    time.sleep(5)\n",
    "    lista_resultados = nav.find_elements(By.CLASS_NAME, 'Cell_Content__1630r')\n",
    "    \n",
    "    # para cada resultado\n",
    "    lista_ofertas = []\n",
    "    for resultado in lista_resultados:\n",
    "        try:\n",
    "            preco = resultado.find_element(By.CLASS_NAME, 'CellPrice_MainValue__3s0iP').text\n",
    "            nome = resultado.get_attribute('title')\n",
    "            nome = nome.lower()\n",
    "            link = resultado.get_attribute('href')\n",
    "            \n",
    "            # verificacao do nome - se no nome tem algum termo banido\n",
    "            tem_termos_banidos = False\n",
    "            for palavra in lista_termos_banidos:\n",
    "                if palavra in nome:\n",
    "                    tem_termos_banidos = True  \n",
    "                    \n",
    "            # verificar se no nome tem todos os termos do nome do produto\n",
    "            tem_todos_termos_produto = True\n",
    "            for palavra in lista_termos_produto:\n",
    "                if palavra not in nome:\n",
    "                    tem_todos_termos_produto = False            \n",
    "            \n",
    "            if not tem_termos_banidos and tem_todos_termos_produto:\n",
    "                preco = preco.replace(\"R$\", \"\").replace(\" \", \"\").replace(\".\", \"\").replace(\",\", \".\")\n",
    "                preco = float(preco)\n",
    "                if preco_minimo <= preco <= preco_maximo:\n",
    "                    lista_ofertas.append((nome, preco, link))\n",
    "        except:\n",
    "            pass\n",
    "    return lista_ofertas"
   ]
  },
  {
   "cell_type": "markdown",
   "id": "24ecf918",
   "metadata": {},
   "source": [
    "Contrução da nossa lista de ofertas encontradas"
   ]
  },
  {
   "cell_type": "code",
   "execution_count": 4,
   "id": "fb53d635",
   "metadata": {},
   "outputs": [
    {
     "ename": "NoSuchElementException",
     "evalue": "Message: no such element: Unable to locate element: {\"method\":\"xpath\",\"selector\":\"/html/body/div[1]/div[3]/form/div[1]/div[1]/div[1]/div/div[2]/input\"}\n  (Session info: chrome=114.0.5735.134); For documentation on this error, please visit: https://www.selenium.dev/documentation/webdriver/troubleshooting/errors#no-such-element-exception\nStacktrace:\nBacktrace:\n\tGetHandleVerifier [0x005E8893+48451]\n\t(No symbol) [0x0057B8A1]\n\t(No symbol) [0x00485058]\n\t(No symbol) [0x004B0467]\n\t(No symbol) [0x004B069B]\n\t(No symbol) [0x004DDD92]\n\t(No symbol) [0x004CA304]\n\t(No symbol) [0x004DC482]\n\t(No symbol) [0x004CA0B6]\n\t(No symbol) [0x004A7E08]\n\t(No symbol) [0x004A8F2D]\n\tGetHandleVerifier [0x00848E3A+2540266]\n\tGetHandleVerifier [0x00888959+2801161]\n\tGetHandleVerifier [0x0088295C+2776588]\n\tGetHandleVerifier [0x00672280+612144]\n\t(No symbol) [0x00584F6C]\n\t(No symbol) [0x005811D8]\n\t(No symbol) [0x005812BB]\n\t(No symbol) [0x00574857]\n\tBaseThreadInitThunk [0x77007D59+25]\n\tRtlInitializeExceptionChain [0x777DB74B+107]\n\tRtlClearBits [0x777DB6CF+191]\n",
     "output_type": "error",
     "traceback": [
      "\u001b[1;31m---------------------------------------------------------------------------\u001b[0m",
      "\u001b[1;31mNoSuchElementException\u001b[0m                    Traceback (most recent call last)",
      "Cell \u001b[1;32mIn[4], line 9\u001b[0m\n\u001b[0;32m      6\u001b[0m preco_minimo \u001b[38;5;241m=\u001b[39m tabela_produtos\u001b[38;5;241m.\u001b[39mloc[linha, \u001b[38;5;124m\"\u001b[39m\u001b[38;5;124mPreço mínimo\u001b[39m\u001b[38;5;124m\"\u001b[39m]\n\u001b[0;32m      7\u001b[0m preco_maximo \u001b[38;5;241m=\u001b[39m tabela_produtos\u001b[38;5;241m.\u001b[39mloc[linha, \u001b[38;5;124m\"\u001b[39m\u001b[38;5;124mPreço máximo\u001b[39m\u001b[38;5;124m\"\u001b[39m]\n\u001b[1;32m----> 9\u001b[0m lista_ofertas_google_shopping \u001b[38;5;241m=\u001b[39m \u001b[43mbusca_google_shopping\u001b[49m\u001b[43m(\u001b[49m\u001b[43mnav\u001b[49m\u001b[43m,\u001b[49m\u001b[43m \u001b[49m\u001b[43mproduto\u001b[49m\u001b[43m,\u001b[49m\u001b[43m \u001b[49m\u001b[43mtermos_banidos\u001b[49m\u001b[43m,\u001b[49m\u001b[43m \u001b[49m\u001b[43mpreco_minimo\u001b[49m\u001b[43m,\u001b[49m\u001b[43m \u001b[49m\u001b[43mpreco_maximo\u001b[49m\u001b[43m)\u001b[49m\n\u001b[0;32m     10\u001b[0m \u001b[38;5;28;01mif\u001b[39;00m lista_ofertas_google_shopping:\n\u001b[0;32m     11\u001b[0m     tabela_google_shopping \u001b[38;5;241m=\u001b[39m pd\u001b[38;5;241m.\u001b[39mDataFrame(lista_ofertas_google_shopping, columns\u001b[38;5;241m=\u001b[39m[\u001b[38;5;124m'\u001b[39m\u001b[38;5;124mproduto\u001b[39m\u001b[38;5;124m'\u001b[39m, \u001b[38;5;124m'\u001b[39m\u001b[38;5;124mpreco\u001b[39m\u001b[38;5;124m'\u001b[39m, \u001b[38;5;124m'\u001b[39m\u001b[38;5;124mlink\u001b[39m\u001b[38;5;124m'\u001b[39m])\n",
      "Cell \u001b[1;32mIn[3], line 17\u001b[0m, in \u001b[0;36mbusca_google_shopping\u001b[1;34m(nav, produto, termos_banidos, preco_minimo, preco_maximo)\u001b[0m\n\u001b[0;32m     13\u001b[0m preco_minimo \u001b[38;5;241m=\u001b[39m \u001b[38;5;28mfloat\u001b[39m(preco_minimo)\n\u001b[0;32m     16\u001b[0m \u001b[38;5;66;03m# pesquisar o nome do produto no google\u001b[39;00m\n\u001b[1;32m---> 17\u001b[0m \u001b[43mnav\u001b[49m\u001b[38;5;241;43m.\u001b[39;49m\u001b[43mfind_element\u001b[49m\u001b[43m(\u001b[49m\u001b[43mBy\u001b[49m\u001b[38;5;241;43m.\u001b[39;49m\u001b[43mXPATH\u001b[49m\u001b[43m,\u001b[49m\u001b[43m \u001b[49m\u001b[38;5;124;43m'\u001b[39;49m\u001b[38;5;124;43m/html/body/div[1]/div[3]/form/div[1]/div[1]/div[1]/div/div[2]/input\u001b[39;49m\u001b[38;5;124;43m'\u001b[39;49m\u001b[43m)\u001b[49m\u001b[38;5;241m.\u001b[39msend_keys(produto)\n\u001b[0;32m     18\u001b[0m nav\u001b[38;5;241m.\u001b[39mfind_element(By\u001b[38;5;241m.\u001b[39mXPATH, \u001b[38;5;124m'\u001b[39m\u001b[38;5;124m/html/body/div[1]/div[3]/form/div[1]/div[1]/div[1]/div/div[2]/input\u001b[39m\u001b[38;5;124m'\u001b[39m)\u001b[38;5;241m.\u001b[39msend_keys(Keys\u001b[38;5;241m.\u001b[39mENTER)\n\u001b[0;32m     20\u001b[0m \u001b[38;5;66;03m# clicar na aba shopping\u001b[39;00m\n",
      "File \u001b[1;32m~\\anaconda3\\lib\\site-packages\\selenium\\webdriver\\remote\\webdriver.py:740\u001b[0m, in \u001b[0;36mWebDriver.find_element\u001b[1;34m(self, by, value)\u001b[0m\n\u001b[0;32m    737\u001b[0m     by \u001b[38;5;241m=\u001b[39m By\u001b[38;5;241m.\u001b[39mCSS_SELECTOR\n\u001b[0;32m    738\u001b[0m     value \u001b[38;5;241m=\u001b[39m \u001b[38;5;124mf\u001b[39m\u001b[38;5;124m'\u001b[39m\u001b[38;5;124m[name=\u001b[39m\u001b[38;5;124m\"\u001b[39m\u001b[38;5;132;01m{\u001b[39;00mvalue\u001b[38;5;132;01m}\u001b[39;00m\u001b[38;5;124m\"\u001b[39m\u001b[38;5;124m]\u001b[39m\u001b[38;5;124m'\u001b[39m\n\u001b[1;32m--> 740\u001b[0m \u001b[38;5;28;01mreturn\u001b[39;00m \u001b[38;5;28;43mself\u001b[39;49m\u001b[38;5;241;43m.\u001b[39;49m\u001b[43mexecute\u001b[49m\u001b[43m(\u001b[49m\u001b[43mCommand\u001b[49m\u001b[38;5;241;43m.\u001b[39;49m\u001b[43mFIND_ELEMENT\u001b[49m\u001b[43m,\u001b[49m\u001b[43m \u001b[49m\u001b[43m{\u001b[49m\u001b[38;5;124;43m\"\u001b[39;49m\u001b[38;5;124;43musing\u001b[39;49m\u001b[38;5;124;43m\"\u001b[39;49m\u001b[43m:\u001b[49m\u001b[43m \u001b[49m\u001b[43mby\u001b[49m\u001b[43m,\u001b[49m\u001b[43m \u001b[49m\u001b[38;5;124;43m\"\u001b[39;49m\u001b[38;5;124;43mvalue\u001b[39;49m\u001b[38;5;124;43m\"\u001b[39;49m\u001b[43m:\u001b[49m\u001b[43m \u001b[49m\u001b[43mvalue\u001b[49m\u001b[43m}\u001b[49m\u001b[43m)\u001b[49m[\u001b[38;5;124m\"\u001b[39m\u001b[38;5;124mvalue\u001b[39m\u001b[38;5;124m\"\u001b[39m]\n",
      "File \u001b[1;32m~\\anaconda3\\lib\\site-packages\\selenium\\webdriver\\remote\\webdriver.py:346\u001b[0m, in \u001b[0;36mWebDriver.execute\u001b[1;34m(self, driver_command, params)\u001b[0m\n\u001b[0;32m    344\u001b[0m response \u001b[38;5;241m=\u001b[39m \u001b[38;5;28mself\u001b[39m\u001b[38;5;241m.\u001b[39mcommand_executor\u001b[38;5;241m.\u001b[39mexecute(driver_command, params)\n\u001b[0;32m    345\u001b[0m \u001b[38;5;28;01mif\u001b[39;00m response:\n\u001b[1;32m--> 346\u001b[0m     \u001b[38;5;28;43mself\u001b[39;49m\u001b[38;5;241;43m.\u001b[39;49m\u001b[43merror_handler\u001b[49m\u001b[38;5;241;43m.\u001b[39;49m\u001b[43mcheck_response\u001b[49m\u001b[43m(\u001b[49m\u001b[43mresponse\u001b[49m\u001b[43m)\u001b[49m\n\u001b[0;32m    347\u001b[0m     response[\u001b[38;5;124m\"\u001b[39m\u001b[38;5;124mvalue\u001b[39m\u001b[38;5;124m\"\u001b[39m] \u001b[38;5;241m=\u001b[39m \u001b[38;5;28mself\u001b[39m\u001b[38;5;241m.\u001b[39m_unwrap_value(response\u001b[38;5;241m.\u001b[39mget(\u001b[38;5;124m\"\u001b[39m\u001b[38;5;124mvalue\u001b[39m\u001b[38;5;124m\"\u001b[39m, \u001b[38;5;28;01mNone\u001b[39;00m))\n\u001b[0;32m    348\u001b[0m     \u001b[38;5;28;01mreturn\u001b[39;00m response\n",
      "File \u001b[1;32m~\\anaconda3\\lib\\site-packages\\selenium\\webdriver\\remote\\errorhandler.py:245\u001b[0m, in \u001b[0;36mErrorHandler.check_response\u001b[1;34m(self, response)\u001b[0m\n\u001b[0;32m    243\u001b[0m         alert_text \u001b[38;5;241m=\u001b[39m value[\u001b[38;5;124m\"\u001b[39m\u001b[38;5;124malert\u001b[39m\u001b[38;5;124m\"\u001b[39m]\u001b[38;5;241m.\u001b[39mget(\u001b[38;5;124m\"\u001b[39m\u001b[38;5;124mtext\u001b[39m\u001b[38;5;124m\"\u001b[39m)\n\u001b[0;32m    244\u001b[0m     \u001b[38;5;28;01mraise\u001b[39;00m exception_class(message, screen, stacktrace, alert_text)  \u001b[38;5;66;03m# type: ignore[call-arg]  # mypy is not smart enough here\u001b[39;00m\n\u001b[1;32m--> 245\u001b[0m \u001b[38;5;28;01mraise\u001b[39;00m exception_class(message, screen, stacktrace)\n",
      "\u001b[1;31mNoSuchElementException\u001b[0m: Message: no such element: Unable to locate element: {\"method\":\"xpath\",\"selector\":\"/html/body/div[1]/div[3]/form/div[1]/div[1]/div[1]/div/div[2]/input\"}\n  (Session info: chrome=114.0.5735.134); For documentation on this error, please visit: https://www.selenium.dev/documentation/webdriver/troubleshooting/errors#no-such-element-exception\nStacktrace:\nBacktrace:\n\tGetHandleVerifier [0x005E8893+48451]\n\t(No symbol) [0x0057B8A1]\n\t(No symbol) [0x00485058]\n\t(No symbol) [0x004B0467]\n\t(No symbol) [0x004B069B]\n\t(No symbol) [0x004DDD92]\n\t(No symbol) [0x004CA304]\n\t(No symbol) [0x004DC482]\n\t(No symbol) [0x004CA0B6]\n\t(No symbol) [0x004A7E08]\n\t(No symbol) [0x004A8F2D]\n\tGetHandleVerifier [0x00848E3A+2540266]\n\tGetHandleVerifier [0x00888959+2801161]\n\tGetHandleVerifier [0x0088295C+2776588]\n\tGetHandleVerifier [0x00672280+612144]\n\t(No symbol) [0x00584F6C]\n\t(No symbol) [0x005811D8]\n\t(No symbol) [0x005812BB]\n\t(No symbol) [0x00574857]\n\tBaseThreadInitThunk [0x77007D59+25]\n\tRtlInitializeExceptionChain [0x777DB74B+107]\n\tRtlClearBits [0x777DB6CF+191]\n"
     ]
    }
   ],
   "source": [
    "tabela_ofertas = pd.DataFrame()\n",
    "\n",
    "for linha in tabela_produtos.index:\n",
    "    produto = tabela_produtos.loc[linha, \"Nome\"]\n",
    "    termos_banidos = tabela_produtos.loc[linha, \"Termos banidos\"]\n",
    "    preco_minimo = tabela_produtos.loc[linha, \"Preço mínimo\"]\n",
    "    preco_maximo = tabela_produtos.loc[linha, \"Preço máximo\"]\n",
    "    \n",
    "    lista_ofertas_google_shopping = busca_google_shopping(nav, produto, termos_banidos, preco_minimo, preco_maximo)\n",
    "    if lista_ofertas_google_shopping:\n",
    "        tabela_google_shopping = pd.DataFrame(lista_ofertas_google_shopping, columns=['produto', 'preco', 'link'])\n",
    "        tabela_ofertas = tabela_ofertas.append(tabela_google_shopping)\n",
    "    else:\n",
    "        tabela_google_shopping = None\n",
    "        \n",
    "    lista_ofertas_buscape = busca_buscape(nav, produto, termos_banidos, preco_minimo, preco_maximo)\n",
    "    if lista_ofertas_buscape:\n",
    "        tabela_buscape = pd.DataFrame(lista_ofertas_buscape, columns=['produto', 'preco', 'link'])\n",
    "        tabela_ofertas = tabela_ofertas.append(tabela_buscape)\n",
    "    else:\n",
    "        tabela_buscape = None\n",
    "\n",
    "display(tabela_ofertas)"
   ]
  },
  {
   "cell_type": "markdown",
   "id": "845320a5",
   "metadata": {},
   "source": [
    "Exportar a base de ofertas para Excel"
   ]
  },
  {
   "cell_type": "code",
   "execution_count": null,
   "id": "dee16081",
   "metadata": {},
   "outputs": [],
   "source": [
    "# exportar pro excel\n",
    "tabela_ofertas = tabela_ofertas.reset_index(drop=True)\n",
    "tabela_ofertas.to_excel(\"Ofertas.xlsx\", index=False)\n"
   ]
  },
  {
   "cell_type": "markdown",
   "id": "b6388cd2",
   "metadata": {},
   "source": [
    "Enviando o e-mail"
   ]
  },
  {
   "cell_type": "code",
   "execution_count": null,
   "id": "742debbd",
   "metadata": {},
   "outputs": [],
   "source": [
    "# enviar por e-mail o resultado da tabela\n",
    "import win32com.client as win32\n",
    "\n",
    "#verificando se existe alguma oferta dentro da tabela de ofertas\n",
    "if len(tabela_ofertas.index) > 0:\n",
    "    # vou enviar email\n",
    "    outlook = win32.Dispatch('outlook.application')\n",
    "    mail = outlook.CreateItem(0)\n",
    "    mail.To = 'pythonimpressionador@gmail.com'\n",
    "    mail.Subject = 'Produto(s) Encontrado(s) na faixa de preço desejada'\n",
    "    mail.HTMLBody = f\"\"\"\n",
    "    <p>Prezados,</p>\n",
    "    <p>Encontramos alguns produtos em oferta dentro da faixa de preço desejada. Segue tabela com detalhes</p>\n",
    "    {tabela_ofertas.to_html(index=False)}\n",
    "    <p>Qualquer dúvida estou à disposição</p>\n",
    "    <p>Att.,</p>\n",
    "    \"\"\"\n",
    "    \n",
    "    mail.Send()\n",
    "\n",
    "nav.quit()  "
   ]
  },
  {
   "cell_type": "code",
   "execution_count": null,
   "id": "b289b057",
   "metadata": {},
   "outputs": [],
   "source": []
  }
 ],
 "metadata": {
  "kernelspec": {
   "display_name": "Python 3 (ipykernel)",
   "language": "python",
   "name": "python3"
  },
  "language_info": {
   "codemirror_mode": {
    "name": "ipython",
    "version": 3
   },
   "file_extension": ".py",
   "mimetype": "text/x-python",
   "name": "python",
   "nbconvert_exporter": "python",
   "pygments_lexer": "ipython3",
   "version": "3.10.9"
  }
 },
 "nbformat": 4,
 "nbformat_minor": 5
}
