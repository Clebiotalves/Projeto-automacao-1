{
 "cells": [
  {
   "cell_type": "markdown",
   "metadata": {},
   "source": [
    "### Passo 1 - Importar Arquivos e Bibliotecas"
   ]
  },
  {
   "cell_type": "code",
   "execution_count": 21,
   "metadata": {},
   "outputs": [],
   "source": [
    "# importar bibliotecas\n",
    "\n",
    "import pandas as pd\n",
    "import pathlib\n"
   ]
  },
  {
   "cell_type": "code",
   "execution_count": 16,
   "metadata": {},
   "outputs": [],
   "source": [
    "# importar bases de dados\n",
    "\n",
    "email= pd.read_excel(r'Bases de Dados\\Emails.xlsx')\n",
    "vendas= pd.read_excel(r'Bases de Dados\\Vendas.xlsx')\n",
    "lojas = pd.read_csv(r'Bases de Dados\\Lojas.csv', encoding='latin1', sep=';')\n"
   ]
  },
  {
   "cell_type": "markdown",
   "metadata": {},
   "source": [
    "### Passo 2 - Definir Criar uma Tabela para cada Loja e Definir o dia do Indicador"
   ]
  },
  {
   "cell_type": "code",
   "execution_count": 17,
   "metadata": {},
   "outputs": [
    {
     "data": {
      "text/html": [
       "<div>\n",
       "<style scoped>\n",
       "    .dataframe tbody tr th:only-of-type {\n",
       "        vertical-align: middle;\n",
       "    }\n",
       "\n",
       "    .dataframe tbody tr th {\n",
       "        vertical-align: top;\n",
       "    }\n",
       "\n",
       "    .dataframe thead th {\n",
       "        text-align: right;\n",
       "    }\n",
       "</style>\n",
       "<table border=\"1\" class=\"dataframe\">\n",
       "  <thead>\n",
       "    <tr style=\"text-align: right;\">\n",
       "      <th></th>\n",
       "      <th>Código Venda</th>\n",
       "      <th>Data</th>\n",
       "      <th>ID Loja</th>\n",
       "      <th>Produto</th>\n",
       "      <th>Quantidade</th>\n",
       "      <th>Valor Unitário</th>\n",
       "      <th>Valor Final</th>\n",
       "      <th>Loja</th>\n",
       "    </tr>\n",
       "  </thead>\n",
       "  <tbody>\n",
       "    <tr>\n",
       "      <th>0</th>\n",
       "      <td>1</td>\n",
       "      <td>2019-01-01</td>\n",
       "      <td>1</td>\n",
       "      <td>Sapato Estampa</td>\n",
       "      <td>1</td>\n",
       "      <td>358</td>\n",
       "      <td>358</td>\n",
       "      <td>Iguatemi Esplanada</td>\n",
       "    </tr>\n",
       "    <tr>\n",
       "      <th>1</th>\n",
       "      <td>1</td>\n",
       "      <td>2019-01-01</td>\n",
       "      <td>1</td>\n",
       "      <td>Camiseta</td>\n",
       "      <td>2</td>\n",
       "      <td>180</td>\n",
       "      <td>360</td>\n",
       "      <td>Iguatemi Esplanada</td>\n",
       "    </tr>\n",
       "    <tr>\n",
       "      <th>2</th>\n",
       "      <td>1</td>\n",
       "      <td>2019-01-01</td>\n",
       "      <td>1</td>\n",
       "      <td>Sapato Xadrez</td>\n",
       "      <td>1</td>\n",
       "      <td>368</td>\n",
       "      <td>368</td>\n",
       "      <td>Iguatemi Esplanada</td>\n",
       "    </tr>\n",
       "    <tr>\n",
       "      <th>3</th>\n",
       "      <td>21</td>\n",
       "      <td>2019-01-02</td>\n",
       "      <td>1</td>\n",
       "      <td>Camisa Gola V Listrado</td>\n",
       "      <td>2</td>\n",
       "      <td>116</td>\n",
       "      <td>232</td>\n",
       "      <td>Iguatemi Esplanada</td>\n",
       "    </tr>\n",
       "    <tr>\n",
       "      <th>4</th>\n",
       "      <td>34</td>\n",
       "      <td>2019-01-02</td>\n",
       "      <td>1</td>\n",
       "      <td>Sapato Listrado</td>\n",
       "      <td>1</td>\n",
       "      <td>363</td>\n",
       "      <td>363</td>\n",
       "      <td>Iguatemi Esplanada</td>\n",
       "    </tr>\n",
       "    <tr>\n",
       "      <th>...</th>\n",
       "      <td>...</td>\n",
       "      <td>...</td>\n",
       "      <td>...</td>\n",
       "      <td>...</td>\n",
       "      <td>...</td>\n",
       "      <td>...</td>\n",
       "      <td>...</td>\n",
       "      <td>...</td>\n",
       "    </tr>\n",
       "    <tr>\n",
       "      <th>100994</th>\n",
       "      <td>69846</td>\n",
       "      <td>2019-12-25</td>\n",
       "      <td>8</td>\n",
       "      <td>Short Estampa</td>\n",
       "      <td>2</td>\n",
       "      <td>96</td>\n",
       "      <td>192</td>\n",
       "      <td>Salvador Shopping</td>\n",
       "    </tr>\n",
       "    <tr>\n",
       "      <th>100995</th>\n",
       "      <td>69846</td>\n",
       "      <td>2019-12-25</td>\n",
       "      <td>8</td>\n",
       "      <td>Tênis Estampa</td>\n",
       "      <td>5</td>\n",
       "      <td>256</td>\n",
       "      <td>1280</td>\n",
       "      <td>Salvador Shopping</td>\n",
       "    </tr>\n",
       "    <tr>\n",
       "      <th>100996</th>\n",
       "      <td>69850</td>\n",
       "      <td>2019-12-25</td>\n",
       "      <td>8</td>\n",
       "      <td>Calça Estampa</td>\n",
       "      <td>4</td>\n",
       "      <td>177</td>\n",
       "      <td>708</td>\n",
       "      <td>Salvador Shopping</td>\n",
       "    </tr>\n",
       "    <tr>\n",
       "      <th>100997</th>\n",
       "      <td>69972</td>\n",
       "      <td>2019-12-26</td>\n",
       "      <td>8</td>\n",
       "      <td>Terno Liso</td>\n",
       "      <td>3</td>\n",
       "      <td>720</td>\n",
       "      <td>2160</td>\n",
       "      <td>Salvador Shopping</td>\n",
       "    </tr>\n",
       "    <tr>\n",
       "      <th>100998</th>\n",
       "      <td>69972</td>\n",
       "      <td>2019-12-26</td>\n",
       "      <td>8</td>\n",
       "      <td>Sapato Estampa</td>\n",
       "      <td>5</td>\n",
       "      <td>358</td>\n",
       "      <td>1790</td>\n",
       "      <td>Salvador Shopping</td>\n",
       "    </tr>\n",
       "  </tbody>\n",
       "</table>\n",
       "<p>100999 rows × 8 columns</p>\n",
       "</div>"
      ],
      "text/plain": [
       "        Código Venda       Data  ID Loja                 Produto  Quantidade   \n",
       "0                  1 2019-01-01        1          Sapato Estampa           1  \\\n",
       "1                  1 2019-01-01        1                Camiseta           2   \n",
       "2                  1 2019-01-01        1           Sapato Xadrez           1   \n",
       "3                 21 2019-01-02        1  Camisa Gola V Listrado           2   \n",
       "4                 34 2019-01-02        1         Sapato Listrado           1   \n",
       "...              ...        ...      ...                     ...         ...   \n",
       "100994         69846 2019-12-25        8           Short Estampa           2   \n",
       "100995         69846 2019-12-25        8           Tênis Estampa           5   \n",
       "100996         69850 2019-12-25        8           Calça Estampa           4   \n",
       "100997         69972 2019-12-26        8              Terno Liso           3   \n",
       "100998         69972 2019-12-26        8          Sapato Estampa           5   \n",
       "\n",
       "        Valor Unitário  Valor Final                Loja  \n",
       "0                  358          358  Iguatemi Esplanada  \n",
       "1                  180          360  Iguatemi Esplanada  \n",
       "2                  368          368  Iguatemi Esplanada  \n",
       "3                  116          232  Iguatemi Esplanada  \n",
       "4                  363          363  Iguatemi Esplanada  \n",
       "...                ...          ...                 ...  \n",
       "100994              96          192   Salvador Shopping  \n",
       "100995             256         1280   Salvador Shopping  \n",
       "100996             177          708   Salvador Shopping  \n",
       "100997             720         2160   Salvador Shopping  \n",
       "100998             358         1790   Salvador Shopping  \n",
       "\n",
       "[100999 rows x 8 columns]"
      ]
     },
     "metadata": {},
     "output_type": "display_data"
    }
   ],
   "source": [
    "# incluir nome da loja em vendas\n",
    "\n",
    "vendas = vendas.merge(lojas, on='ID Loja')\n",
    "display(vendas)"
   ]
  },
  {
   "cell_type": "code",
   "execution_count": 19,
   "metadata": {},
   "outputs": [],
   "source": [
    "dicionario_lojas = {}          #criando dicionario vazio\n",
    "for loja in lojas['Loja']:\n",
    "    dicionario_lojas[loja] =  vendas.loc[vendas['Loja']==loja, :]  # Criando uma tabela por loja    "
   ]
  },
  {
   "cell_type": "code",
   "execution_count": 20,
   "metadata": {},
   "outputs": [
    {
     "name": "stdout",
     "output_type": "stream",
     "text": [
      "2019-12-26 00:00:00\n"
     ]
    }
   ],
   "source": [
    "dia_do_indicador = vendas['Data'].max()\n",
    "print(dia_do_indicador)"
   ]
  },
  {
   "cell_type": "markdown",
   "metadata": {},
   "source": [
    "### Passo 3 - Salvar a planilha na pasta de backup"
   ]
  },
  {
   "cell_type": "code",
   "execution_count": 23,
   "metadata": {},
   "outputs": [],
   "source": [
    "# Identificar de a pasta existe \n",
    "\n",
    "caminho_backup = pathlib.Path(r'Backup Arquivos Lojas')\n",
    "\n",
    "arquivos_pasta_backup = caminho_backup.iterdir()\n",
    "lista_nomes_backup = [arquivo.name for arquivo in arquivos_pasta_backup]  # for com list comprehension\n",
    "\n",
    "for loja in dicionario_lojas:                  # criando condição criação de pastas sem repetir\n",
    "    if loja not in lista_nomes_backup:\n",
    "        nova_pasta = caminho_backup / loja\n",
    "        nova_pasta.mkdir()\n",
    "        \n",
    "        \n",
    "# Salvar dentro pasta    \n",
    "    nome_arquivo = f'{dia_do_indicador.month}_{dia_do_indicador.day}_{loja}.xlsx'     # criando o arquivo e colocando na pasta correspondente\n",
    "    local_arquivo = caminho_backup / loja / nome_arquivo    \n",
    "    dicionario_lojas[loja].to_excel(local_arquivo)"
   ]
  },
  {
   "cell_type": "markdown",
   "metadata": {},
   "source": [
    "### Passo 4 - Calcular o indicador para 1 loja"
   ]
  },
  {
   "cell_type": "code",
   "execution_count": null,
   "metadata": {
    "scrolled": true
   },
   "outputs": [],
   "source": [
    "vendas_lojas = dicionario_lojas[loja]\n",
    "vendas_lojas_dia = vendas_loja.loc[vendas_loja['Data']==dia_do_indicador, :]\n",
    "# faturamento\n",
    "faturamneto_ano = vendas_loja['Valor Final'].sum()\n",
    "faturamento_dia = vendas_loja_dia['valor Final'].sum()"
   ]
  },
  {
   "cell_type": "code",
   "execution_count": null,
   "metadata": {},
   "outputs": [],
   "source": [
    "# diversidae de produtos\n"
   ]
  },
  {
   "cell_type": "code",
   "execution_count": null,
   "metadata": {},
   "outputs": [],
   "source": [
    "# ticket medio"
   ]
  },
  {
   "cell_type": "markdown",
   "metadata": {},
   "source": [
    "### Passo 5 - Enviar por e-mail para o gerente"
   ]
  },
  {
   "cell_type": "code",
   "execution_count": null,
   "metadata": {},
   "outputs": [],
   "source": []
  },
  {
   "cell_type": "markdown",
   "metadata": {},
   "source": [
    "### Passo 6 - Automatizar todas as lojas"
   ]
  },
  {
   "cell_type": "markdown",
   "metadata": {},
   "source": [
    "### Passo 7 - Criar ranking para diretoria"
   ]
  },
  {
   "cell_type": "code",
   "execution_count": null,
   "metadata": {},
   "outputs": [],
   "source": []
  },
  {
   "cell_type": "markdown",
   "metadata": {},
   "source": [
    "### Passo 8 - Enviar e-mail para diretoria"
   ]
  },
  {
   "cell_type": "code",
   "execution_count": null,
   "metadata": {},
   "outputs": [],
   "source": []
  }
 ],
 "metadata": {
  "kernelspec": {
   "display_name": "Python 3 (ipykernel)",
   "language": "python",
   "name": "python3"
  },
  "language_info": {
   "codemirror_mode": {
    "name": "ipython",
    "version": 3
   },
   "file_extension": ".py",
   "mimetype": "text/x-python",
   "name": "python",
   "nbconvert_exporter": "python",
   "pygments_lexer": "ipython3",
   "version": "3.10.9"
  }
 },
 "nbformat": 4,
 "nbformat_minor": 4
}
